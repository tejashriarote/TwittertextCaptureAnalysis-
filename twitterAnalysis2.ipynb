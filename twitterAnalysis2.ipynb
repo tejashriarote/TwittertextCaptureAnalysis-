{
 "cells": [
  {
   "cell_type": "code",
   "execution_count": 1,
   "metadata": {},
   "outputs": [],
   "source": [
    "import collections\n",
    "import operator\n",
    "readFile=\"./Giraffes.txt\";\n",
    "fopen=open(readFile,encoding=\"utf8\")\n",
    "with fopen as f:\n",
    "    content = f.readlines()"
   ]
  },
  {
   "cell_type": "code",
   "execution_count": 2,
   "metadata": {},
   "outputs": [],
   "source": [
    "\n",
    "Names=[]\n",
    "for data in content:\n",
    "    record = data.split() \n",
    "  \n",
    "    \n",
    "    Names.append(record[0])\n",
    "    \n",
    "\n",
    "\n",
    "\n",
    "UniqueNames = collections.Counter(Names)\n",
    "\n",
    "\n",
    "\n",
    "abc = collections.Counter(UniqueNames).most_common(10)\n",
    "\n",
    "\n",
    "    \n",
    "output = open('Q1.txt', 'w', encoding=\"utf-8\")\n",
    "output.write(\"The top 10 users are  \\n\")\n",
    "for i in range(0,10):\n",
    "    output.write( abc[i][0] + \" tweeted \" + str(abc[i][1]) + \" times\" + \"\\n\")\n",
    "    output.close"
   ]
  },
  {
   "cell_type": "code",
   "execution_count": 3,
   "metadata": {},
   "outputs": [],
   "source": [
    "\n",
    "PerHour = {}\n",
    "\n",
    "for line in content:\n",
    "    dateTime = line.split()\n",
    "    splitTime = dateTime[1].split(\":\")   #checking the time variable from each line\n",
    "    Time = splitTime[0] + \" \" + splitTime[1] \n",
    "    if Time in PerHour:\n",
    "        PerHour[Time] += 1\n",
    "    else:\n",
    "        PerHour[Time] = 1\n",
    "\n",
    "PerHour = sorted(PerHour.items(), key=operator.itemgetter(1), reverse=True)\n",
    "\n",
    "PerHour2 = {}\n",
    "\n",
    "totalpost = 0\n",
    "for line in PerHour:\n",
    "    totalpost += 1\n",
    "    if (line[0].split()[1]) in PerHour:\n",
    "        PerHour2[line[0].split()[1]] += 1\n",
    "    else:\n",
    "        PerHour2[line[0].split()[1]] = 1\n",
    "\n",
    "PerHour2 = sorted(PerHour2.items(), key=operator.itemgetter(1))\n",
    "\n",
    "\n",
    "\n",
    "totalEntriesToPrint = 10 * len(PerHour2)\n",
    "output = open('./Q2.txt', 'w',\n",
    "                  encoding='utf-8')\n",
    "\n",
    "for x in range(0, len(PerHour2)):\n",
    "    Search = 10\n",
    "    for data in PerHour:\n",
    "        if Search == 0:\n",
    "            break\n",
    "        if line[0].split()[1] == PerHour2[x][0]:\n",
    "            output.write(\"Username: \" + line[0].split()[0] + \"\\n Hour: \" + PerHour2[x][0] + \"\\n\")\n",
    "            Search -= 1\n",
    "            output.close"
   ]
  },
  {
   "cell_type": "code",
   "execution_count": 4,
   "metadata": {},
   "outputs": [],
   "source": [
    "\n",
    "Followers={}\n",
    "\n",
    "for data in content:\n",
    "    line = data.split()    \n",
    "    if line[0] not in Followers:\n",
    "        Followers[line[0]] = int(line[-2])\n",
    "\n",
    "\n",
    "followers = collections.Counter(Followers).most_common(10)\n",
    "\n",
    "\n",
    "output = open('./Q3.txt', 'w', encoding=\"utf-8\")\n",
    "output.write(\"Maximum followers\\n\",)\n",
    "\n",
    "for i in range(0, 10):\n",
    "    output.write(\"Username: \" + followers[i][0] + \" &  Followers: \" + str(followers[i][1]) + \"\\n\\n\")\n",
    "    output.close\n"
   ]
  },
  {
   "cell_type": "code",
   "execution_count": 7,
   "metadata": {},
   "outputs": [
    {
     "data": {
      "text/plain": [
       "<function TextIOWrapper.close()>"
      ]
     },
     "execution_count": 7,
     "metadata": {},
     "output_type": "execute_result"
    }
   ],
   "source": [
    "ret = {}\n",
    "\n",
    "for line in content:\n",
    "    data = line.split()    \n",
    "    if data[0] not in ret:\n",
    "        ret[data[0]] = int(data[-1])\n",
    "\n",
    "\n",
    "maxReTweets = collections.Counter(ret).most_common(10)      \n",
    "outputFile = open('./Q4.txt', 'w', encoding=\"utf-8\")\n",
    "outputFile.write(\"Top 10 users \\n\",)\n",
    "\n",
    "for i in range(0, 10):\n",
    "    outputFile.write(\"Username: \" + maxReTweets[i][0] + \" & Number of Retweets: \" + str(maxReTweets) + \"\\n\\n\")\n",
    "outputFile.close"
   ]
  },
  {
   "cell_type": "code",
   "execution_count": null,
   "metadata": {},
   "outputs": [],
   "source": []
  }
 ],
 "metadata": {
  "kernelspec": {
   "display_name": "Python 3",
   "language": "python",
   "name": "python3"
  },
  "language_info": {
   "codemirror_mode": {
    "name": "ipython",
    "version": 3
   },
   "file_extension": ".py",
   "mimetype": "text/x-python",
   "name": "python",
   "nbconvert_exporter": "python",
   "pygments_lexer": "ipython3",
   "version": "3.7.1"
  }
 },
 "nbformat": 4,
 "nbformat_minor": 2
}
